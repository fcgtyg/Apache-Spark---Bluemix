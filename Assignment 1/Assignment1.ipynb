{
 "cells": [
  {
   "cell_type": "markdown",
   "metadata": {
    "collapsed": true
   },
   "source": [
    "<h1 align=\"center\">CS340 - Assignment 1</h1>\n",
    "<h3 align=\"center\">Due Date: 27 March 2017</h3>\n",
    "<p style=\"text-indent: 40px\">In this project we are going to simulate a hypothetical situation with <b>Spark</b>. Let's say we have 100x100 board similar to the bord above. A million times we throw three stones to the board.</p>\n",
    "\n",
    "<div>\n",
    "    <img src=\"http://image.prntscr.com/image/c577048a6cdf405990621e5b24bc1ade.png\" width=200>\n",
    "\n",
    "    <center><strong>Figure 1: 18x18 board</strong></center>\n",
    "</div>\n",
    "\n",
    "## Triangle or Not\n",
    "\n",
    "<p style=\"text-indent: 40px\">For the first part of this assignment you should calculate, out of those one million trials how many of them could form a triangle. The data is included in the assignment folder. Each row in the data represents a triangle and structure is like  \"x1 y1, x2 y2, x3 y3\" where x's and y's are the coordinates of the edges.</p>\n",
    "\n",
    "\n",
    "<p style=\"text-indent: 40px\"> Note: To check if a triangle is valid or not you should use <b>triangle inequality theorem</b>.</p>\n",
    "<p style=\"text-indent: 40px\"> Caution: Do not use loops or externmal libraries, you should only use <b>Spark</b>. Only library you can use for this project is matplotlib.</p>\n",
    "<p style=\"text-indent: 40px\">Important: <b>Plagiarism</b> will not be tolerated and issue will be referred to the <b>disciplinary committee</b>.</p>"
   ]
  },
  {
   "cell_type": "code",
   "execution_count": null,
   "metadata": {
    "collapsed": false
   },
   "outputs": [],
   "source": [
    ""
   ]
  },
  {
   "cell_type": "markdown",
   "metadata": {
    "collapsed": false,
    "scrolled": false
   },
   "source": [
    "## Number of Neighbours\n",
    "<p style=\"text-indent: 40px\">For the next part of this project, you sohuld get the number of neighbours that each triangle(only valid traingles) has. Draw a histogram from those numbers with matplotlib library, number of bins shuld be 100 for the histogram. Then you should calculate the mean of the number of neighbours with <b>Spark</b>.</p>\n",
    "\n",
    "<p style=\"text-indent: 40px\"> For the simplicity, let's say that, if two triangles has a common vertex, they are neighbour.</p> "
   ]
  },
  {
   "cell_type": "code",
   "execution_count": null,
   "metadata": {
    "collapsed": false
   },
   "outputs": [],
   "source": [
    "# %matplotlib inline is a magic command that lets us draw graphs on the notebook\n",
    "%matplotlib inline\n",
    "import matplotlib.pyplot as plt"
   ]
  },
  {
   "cell_type": "markdown",
   "metadata": {
    "collapsed": false
   },
   "source": [
    "## Circumferences\n",
    "\n",
    "<p style=\"text-indent: 40px\">For the next part of this project you should calculate the circumferences of the triangles(only valid traingles). Then you should draw a <b>scatter plot</b> of \"circumferences\" and \"number of neighbours\". One caveat is that one million point is too much to draw, so take only ten thousand trianges that has the largest circumferences.</p>"
   ]
  },
  {
   "cell_type": "code",
   "execution_count": null,
   "metadata": {
    "collapsed": false
   },
   "outputs": [],
   "source": [
    ""
   ]
  }
 ],
 "metadata": {
  "kernelspec": {
   "display_name": "Python 2 with Spark 1.6",
   "language": "python",
   "name": "python2"
  },
  "language_info": {
   "codemirror_mode": {
    "name": "ipython",
    "version": 2.0
   },
   "file_extension": ".py",
   "mimetype": "text/x-python",
   "name": "python",
   "nbconvert_exporter": "python",
   "pygments_lexer": "ipython2",
   "version": "2.7.11"
  }
 },
 "nbformat": 4,
 "nbformat_minor": 0
}